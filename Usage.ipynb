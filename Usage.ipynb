{
 "cells": [
  {
   "cell_type": "markdown",
   "id": "contrary-madison",
   "metadata": {},
   "source": [
    "# Creating train and test dataset"
   ]
  },
  {
   "cell_type": "markdown",
   "id": "chronic-monaco",
   "metadata": {},
   "source": [
    "Run the script to download the data set from https://www.kaggle.com/jinbonnie/trumps-facbook which contains Trump's facebook statuses. Extract the status messages from the dataset and divide it to test and validation set. "
   ]
  },
  {
   "cell_type": "code",
   "execution_count": 8,
   "id": "laughing-recall",
   "metadata": {
    "scrolled": true
   },
   "outputs": [
    {
     "name": "stdout",
     "output_type": "stream",
     "text": [
      "File containing the dataset already present\r\n"
     ]
    }
   ],
   "source": [
    "!python dataset.py train.txt validation.txt"
   ]
  },
  {
   "cell_type": "markdown",
   "id": "yellow-bible",
   "metadata": {},
   "source": [
    "# Training \n",
    "Run the tranformers run_clm.py to create the language model. "
   ]
  },
  {
   "cell_type": "code",
   "execution_count": null,
   "id": "standard-copper",
   "metadata": {},
   "outputs": [],
   "source": [
    "!python transformers/examples/language-modeling/run_clm.py --model_name_or_path gpt2 --train_file train.txt --validation_file validation.txt --do_train --do_eval --per_gpu_train_batch_size 2 --output_dir models\n"
   ]
  },
  {
   "cell_type": "markdown",
   "id": "brief-proceeding",
   "metadata": {},
   "source": [
    "# Text generation"
   ]
  },
  {
   "cell_type": "code",
   "execution_count": 20,
   "id": "secret-single",
   "metadata": {},
   "outputs": [
    {
     "name": "stdout",
     "output_type": "stream",
     "text": [
      "01/20/2021 16:51:04 - WARNING - __main__ -   device: cpu, n_gpu: 0, 16-bits training: False\n",
      "01/20/2021 16:51:10 - INFO - __main__ -   Namespace(device=device(type='cpu'), fp16=False, k=0, length=100, model_name_or_path='models', model_type='gpt2', n_gpu=0, no_cuda=False, num_return_sequences=1, p=0.9, padding_text='', prefix='', prompt='<|title|>', repetition_penalty=1.0, seed=13555, stop_token=None, temperature=1.0, xlm_language='')\n",
      "Setting `pad_token_id` to `eos_token_id`:50256 for open-end generation.\n",
      "=== GENERATED SEQUENCE 1 ===\n",
      "<|title|>I have a feeling good about us and what we can achieve together.   There is no choice in this --  we need to be in it together and together.  We have the means and we are going to make this country great again.  Donald J. Trump<|endoftext|>\n"
     ]
    }
   ],
   "source": [
    "!python transformers/examples/text-generation/run_generation.py --model_type=gpt2 --model_name_or_path='models' --prompt='<|title|>' --seed=$RANDOM --length=100"
   ]
  }
 ],
 "metadata": {
  "kernelspec": {
   "display_name": "Python 3",
   "language": "python",
   "name": "python3"
  },
  "language_info": {
   "codemirror_mode": {
    "name": "ipython",
    "version": 3
   },
   "file_extension": ".py",
   "mimetype": "text/x-python",
   "name": "python",
   "nbconvert_exporter": "python",
   "pygments_lexer": "ipython3",
   "version": "3.8.5"
  }
 },
 "nbformat": 4,
 "nbformat_minor": 5
}
